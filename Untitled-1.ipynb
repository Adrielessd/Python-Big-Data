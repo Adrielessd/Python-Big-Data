{
 "cells": [
  {
   "cell_type": "code",
   "execution_count": 71,
   "metadata": {},
   "outputs": [
    {
     "data": {
      "text/plain": [
       "Index(['POS.', 'EMPRESA', 'HORAS', 'Projeto', 'NF', 'PREVISÃO', 'EXECUTADO',\n",
       "       'DT', 'NF.1', 'IMPOSTO', 'TAXA ADM.', 'NF.2', 'EMISSÃO.1', 'NF-RSS',\n",
       "       'IMPOSTO.1', 'LÍQUIDO', 'DESC.', 'STATUS'],\n",
       "      dtype='object')"
      ]
     },
     "execution_count": 71,
     "metadata": {},
     "output_type": "execute_result"
    }
   ],
   "source": [
    "import pandas as pd\n",
    "\n",
    "tabela = pd.read_excel(\"C:\\\\Users\\\\Ediva\\\\Downloads\\\\RSS Adriele Facu - Copia\\\\14_Avaliação Documentação RSS\\\\03_NF Recebido\\\\RSS_Resumo_geral_das_NFs.xlsx\",sheet_name=\"Anual\",header=2)\n",
    "tabela = tabela.drop(\"Unnamed: 6\",axis=1)\n",
    "tabela = tabela.dropna(how='all')\n",
    "tabela = tabela.drop(columns=['DE', 'ATÉ', 'Caderno','S.O.','P.O.','EMISSÃO','HH','%','Unnamed: 30','Unnamed: 31','Unnamed: 32','Unnamed: 5','Unnamed: 19','Unnamed: 26'])\n",
    "#display (tabela)\n",
    "tabela.columns\n"
   ]
  },
  {
   "cell_type": "code",
   "execution_count": null,
   "metadata": {},
   "outputs": [],
   "source": [
    "tabela.rename(columns={'NF.1': 'Valor da NF','IMPOSTO.1':'IMPOSTO RSS'}, inplace=True)\n",
    "tabela = tabela.drop(tabela.index[0])\n"
   ]
  },
  {
   "cell_type": "code",
   "execution_count": null,
   "metadata": {},
   "outputs": [],
   "source": [
    "import plotly.express as px\n",
    "\n",
    "#Converte os valores da coluna 'LÍQUIDO' para números e trata os erros.\n",
    "tabela['LÍQUIDO'] = pd.to_numeric(tabela['LÍQUIDO'], errors='coerce').fillna(0)\n",
    "#coneerter notas em NaN para zero.\n",
    "tabela ['NF']= tabela['NF'].fillna(0)\n",
    "\n",
    "# Agrupa por 'EMPRESA' e soma os valores de 'LÍQUIDO'\n",
    "tabela_agrupada = tabela.groupby('EMPRESA', as_index=False)['LÍQUIDO'].sum()\n",
    "\n",
    "tabela['Diff-tempo'] = (tabela['EXECUTADO'] - tabela['PREVISÃO']).dt.days\n",
    "\n",
    "tabela['Diff-tempo'] = tabela['Diff-tempo'].fillna(0).astype(int)\n",
    "\n",
    "tabela['ANO'] = tabela['EXECUTADO'].dt.year.fillna(0).astype(int)\n",
    "\n",
    "\n",
    "\n",
    "#tabela['ANO'] = tabela['EXECUTADO'].dt.year\n",
    "\n",
    "display (tabela)\n",
    "\n",
    "# Cria um gráfico de barras vertical com 'EMPRESA' no eixo x e 'LIQUIDA' no eixo y\n",
    "fig = px.bar(tabela, x='EMPRESA', y='LÍQUIDO')\n",
    "\n",
    "# Exibe o gráfico\n",
    "fig.show()\n"
   ]
  },
  {
   "cell_type": "code",
   "execution_count": 67,
   "metadata": {},
   "outputs": [
    {
     "name": "stdout",
     "output_type": "stream",
     "text": [
      "<class 'pandas.core.frame.DataFrame'>\n",
      "RangeIndex: 60 entries, 2 to 61\n",
      "Data columns (total 20 columns):\n",
      " #   Column       Non-Null Count  Dtype         \n",
      "---  ------       --------------  -----         \n",
      " 0   POS.         60 non-null     object        \n",
      " 1   EMPRESA      58 non-null     object        \n",
      " 2   HORAS        32 non-null     object        \n",
      " 3   Projeto      57 non-null     object        \n",
      " 4   NF           60 non-null     object        \n",
      " 5   PREVISÃO     45 non-null     datetime64[ns]\n",
      " 6   EXECUTADO    41 non-null     datetime64[ns]\n",
      " 7   DT           49 non-null     object        \n",
      " 8   Valor da NF  57 non-null     float64       \n",
      " 9   IMPOSTO      60 non-null     float64       \n",
      " 10  TAXA ADM.    45 non-null     float64       \n",
      " 11  NF.2         49 non-null     object        \n",
      " 12  EMISSÃO.1    48 non-null     object        \n",
      " 13  NF-RSS       58 non-null     object        \n",
      " 14  IMPOSTO RSS  60 non-null     float64       \n",
      " 15  LÍQUIDO      60 non-null     float64       \n",
      " 16  DESC.        60 non-null     object        \n",
      " 17  STATUS       60 non-null     object        \n",
      " 18  Diff-tempo   60 non-null     int32         \n",
      " 19  ANO          60 non-null     int32         \n",
      "dtypes: datetime64[ns](2), float64(5), int32(2), object(11)\n",
      "memory usage: 9.0+ KB\n"
     ]
    }
   ],
   "source": [
    "tabela.info()"
   ]
  }
 ],
 "metadata": {
  "kernelspec": {
   "display_name": "Python 3",
   "language": "python",
   "name": "python3"
  },
  "language_info": {
   "codemirror_mode": {
    "name": "ipython",
    "version": 3
   },
   "file_extension": ".py",
   "mimetype": "text/x-python",
   "name": "python",
   "nbconvert_exporter": "python",
   "pygments_lexer": "ipython3",
   "version": "3.11.4"
  }
 },
 "nbformat": 4,
 "nbformat_minor": 2
}
